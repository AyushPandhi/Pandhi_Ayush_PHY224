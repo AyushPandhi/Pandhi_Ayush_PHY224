{
 "cells": [
  {
   "cell_type": "markdown",
   "metadata": {},
   "source": [
    "# Radius of Earth Lab\n",
    "### Author: Ayush Pandhi (1003227457)\n",
    "### Date: November 12, 2018"
   ]
  },
  {
   "cell_type": "code",
   "execution_count": 21,
   "metadata": {},
   "outputs": [],
   "source": [
    "#Importing required modules\n",
    "import numpy as np\n",
    "import matplotlib.pyplot as plt\n",
    "from scipy.optimize import curve_fit"
   ]
  },
  {
   "cell_type": "code",
   "execution_count": 22,
   "metadata": {},
   "outputs": [],
   "source": [
    "#Defining the linear model function\n",
    "def f(x, a, b):\n",
    "    return a*x + b"
   ]
  },
  {
   "cell_type": "code",
   "execution_count": 23,
   "metadata": {},
   "outputs": [],
   "source": [
    "#Loading the data for all 3 runs\n",
    "floor = np.loadtxt('Radius of Earth Set 1.txt', skiprows=2, usecols=(0,))\n",
    "mgals1 = (1000)*(0.10023)*(np.loadtxt('Radius of Earth Set 1.txt', skiprows=2, usecols=(1,)))\n",
    "mgals2 = (1000)*(0.10023)*(np.loadtxt('Radius of Earth Set 2.txt', skiprows=2, usecols=(1,)))\n",
    "mgals3 = (1000)*(0.10023)*(np.loadtxt('Radius of Earth Set 3.txt', skiprows=2, usecols=(1,)))\n",
    "    \n",
    "#Getting a new data set of the averages and setting error to standard deviation\n",
    "mgals_mean = np.empty(11,)\n",
    "mgals_std = np.empty(11,)\n",
    "for i in range(len(mgals_mean)):\n",
    "    a = np.array([mgals1[i], mgals2[i], mgals3[i]])\n",
    "    mgals_mean[i] = np.mean(a)\n",
    "    mgals_std[i] = np.std(a)\n",
    "    \n",
    "g = 9.81 - mgals_mean/100000\n",
    "delg = np.empty(11,)\n",
    "for i in range(len(delg)):\n",
    "    delg[i] = g[i] - g[0]\n",
    "g_error = 1000*mgals_std*0.10023/100000"
   ]
  },
  {
   "cell_type": "code",
   "execution_count": 24,
   "metadata": {},
   "outputs": [
    {
     "name": "stdout",
     "output_type": "stream",
     "text": [
      "The two estimated parameters:  1.1718683276483365e-05 -3.573228732403936e-05\n"
     ]
    }
   ],
   "source": [
    "#Linear regression\n",
    "p_opt_1, p_cov_1 = curve_fit(f, floor, delg, (0, 0), g_error, True) \n",
    "lin_output = f(floor, p_opt_1[0], p_opt_1[1])\n",
    "print('The two estimated parameters: ', p_opt_1[0],  p_opt_1[1])"
   ]
  },
  {
   "cell_type": "code",
   "execution_count": 25,
   "metadata": {},
   "outputs": [
    {
     "data": {
      "image/png": "[encoded data removed]",
      "text/plain": [
       "<matplotlib.figure.Figure at 0x2443c0b74a8>"
      ]
     },
     "metadata": {},
     "output_type": "display_data"
    }
   ],
   "source": [
    "#Plots of linear regression\n",
    "plt.figure(figsize=(10,6))\n",
    "plt.scatter(floor, delg, label = 'linear raw data', marker='.', color='k')\n",
    "plt.plot(floor, lin_output, 'r-', label = 'linear fit')\n",
    "plt.title('Change in g vs. Floor Number')\n",
    "plt.xlabel('Floor Number')\n",
    "plt.ylabel('Delta g (m/s^2)')\n",
    "plt.errorbar(floor, delg, xerr=0, yerr=g_error, linestyle='none', ecolor='g', label='Error', capsize=2)\n",
    "plt.legend()\n",
    "plt.show()"
   ]
  },
  {
   "cell_type": "code",
   "execution_count": 26,
   "metadata": {},
   "outputs": [
    {
     "name": "stdout",
     "output_type": "stream",
     "text": [
      "Chi squared for linear regression:  2.1857907302628696e-05\n",
      "Estimated Radius in km:  6612.816092337803\n"
     ]
    }
   ],
   "source": [
    "#Calculating chi squared\n",
    "chi_sq = (1/9)*(np.sum(((delg - lin_output) / g_error)**2))\n",
    "print('Chi squared for linear regression: ', chi_sq)\n",
    "\n",
    "#Estimating the radius of Earth using linear portion of data\n",
    "r = 2*(np.mean(g))/p_opt_1[0]\n",
    "r = 3.95*r/1000\n",
    "print('Estimated Radius in km: ', r)"
   ]
  },
  {
   "cell_type": "code",
   "execution_count": null,
   "metadata": {},
   "outputs": [],
   "source": []
  }
 ],
 "metadata": {
  "kernelspec": {
   "display_name": "Python 3",
   "language": "python",
   "name": "python3"
  },
  "language_info": {
   "codemirror_mode": {
    "name": "ipython",
    "version": 3
   },
   "file_extension": ".py",
   "mimetype": "text/x-python",
   "name": "python",
   "nbconvert_exporter": "python",
   "pygments_lexer": "ipython3",
   "version": "3.6.4"
  }
 },
 "nbformat": 4,
 "nbformat_minor": 2
}
