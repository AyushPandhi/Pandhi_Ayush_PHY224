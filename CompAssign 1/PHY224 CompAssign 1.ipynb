{
 "cells": [
  {
   "cell_type": "markdown",
   "metadata": {},
   "source": [
    "# PHY224 Computational Assignment 1\n",
    "#### Author: Ayush Pandhi (1003227457)\n",
    "#### Due Date: September 24, 2018"
   ]
  },
  {
   "cell_type": "markdown",
   "metadata": {},
   "source": [
    "## Exercise 1"
   ]
  },
  {
   "cell_type": "code",
   "execution_count": 1,
   "metadata": {},
   "outputs": [
    {
     "name": "stdout",
     "output_type": "stream",
     "text": [
      "Rate of change of y at each step:\n",
      "[-0.0049958347219741794, -0.014937587436784194, -0.024730088715635645, -0.03427549512272088, -0.043478432112512344, -0.05224694698069454, -0.06049342762518983, -0.068135477937323, -0.075096741076501]\n",
      "\n",
      "Number of elements in y array:  10\n",
      "Number of elements in delta_y array:  9\n"
     ]
    }
   ],
   "source": [
    "#Importing required modules\n",
    "import numpy as np\n",
    "\n",
    "#Defining variables\n",
    "h = .1                              #Define h as the step size (x[i-1] - x[i])\n",
    "x = np.arange(10)*h                 #A range of x values from 0 to 1\n",
    "y = np.cos(x)                       #Cosine fuction applied on x\n",
    "\n",
    "#Estimating the rate of change of y using a for loop\n",
    "delta_y = []                        #Defining an empty list which we will append at each step\n",
    "for i in range(len(x) - 1):\n",
    "    delta_y.append(y[i+1] - y[i])   #Append the empty list with the rate of change at each step\n",
    "    \n",
    "#Printing the output of delta_y\n",
    "print('Rate of change of y at each step:')\n",
    "print(delta_y)\n",
    "print()\n",
    "\n",
    "#Checking if delta_y has one less element than y\n",
    "print('Number of elements in y array: ', len(y))\n",
    "print('Number of elements in delta_y array: ', len(delta_y))"
   ]
  },
  {
   "cell_type": "markdown",
   "metadata": {},
   "source": [
    "## Exercise 2"
   ]
  },
  {
   "cell_type": "code",
   "execution_count": 2,
   "metadata": {},
   "outputs": [
    {
     "name": "stdout",
     "output_type": "stream",
     "text": [
      "Rate of change of y at each step with array arithmetic:\n",
      "[-0.00499583 -0.01493759 -0.02473009 -0.0342755  -0.04347843 -0.05224695\n",
      " -0.06049343 -0.06813548 -0.07509674]\n",
      "\n",
      "Number of elements in y array:  10\n",
      "Number of elements in delta_y2 array:  9\n"
     ]
    }
   ],
   "source": [
    "#Using array arithmetic to solve for delta_y instead\n",
    "delta_y2 = y[1:] - y[:-1]         #Subtracting the first N-1 elements of y from the last N-1 elements (same as y[i+1] - y[i])\n",
    "\n",
    "#Printing the output of delta_y2\n",
    "print('Rate of change of y at each step with array arithmetic:')\n",
    "print(delta_y2)\n",
    "print()\n",
    "\n",
    "#Checking if delta_y2 has one less element than y\n",
    "print('Number of elements in y array: ', len(y))\n",
    "print('Number of elements in delta_y2 array: ', len(delta_y2))"
   ]
  },
  {
   "cell_type": "markdown",
   "metadata": {},
   "source": [
    "## Exercise 3"
   ]
  },
  {
   "cell_type": "code",
   "execution_count": 3,
   "metadata": {},
   "outputs": [
    {
     "name": "stdout",
     "output_type": "stream",
     "text": [
      "The tension in the string in Newtons is:  1449.6502649776662\n",
      "With uncertainity in Newtons:  102.08804953780205\n"
     ]
    }
   ],
   "source": [
    "#Defining given constants and measurements in SI units\n",
    "g = 9.81                #Acceleration due to gravity in m/s^2\n",
    "m = 1.42                #Mass in kg\n",
    "m_error = 0.1           #Mass uncertainty in kg\n",
    "v = 35.0                #Velocity in m/s\n",
    "v_error = 0.9           #Velocity uncertainty in m/s\n",
    "r = 120.0/100           #Radius in m\n",
    "r_error = 2.0/100       #Radius uncertainity in m\n",
    "\n",
    "#Computing tension in the rope\n",
    "tension = m*(g**2 + (v**2/r)**2)**0.5\n",
    "\n",
    "#Propogating error for tension\n",
    "vsqr_error = 2*v*v_error\n",
    "vsqr_div_r_error = (v**2/r)*((vsqr_error/v**2)**2 + (r_error/r)**2)**0.5\n",
    "vsqr_div_r_sqr_error = 2*(v**2/r)*vsqr_div_r_error\n",
    "vsqr_div_r_sqr_root_error = 0.5*((v**2/r) + g**2)*vsqr_div_r_sqr_error\n",
    "tension_error = (m*(g**2 + (v**2/r)**2)**0.5)*((m_error/m)**2 + (((g**2 + (v**2/r)**2)**0.5)/vsqr_div_r_sqr_root_error)**2)**0.5\n",
    "\n",
    "#Printing output of tension and its uncertainity\n",
    "print('The tension in the string in Newtons is: ', tension)\n",
    "print('With uncertainity in Newtons: ', tension_error)"
   ]
  },
  {
   "cell_type": "markdown",
   "metadata": {},
   "source": [
    "## Exercise 4"
   ]
  },
  {
   "cell_type": "code",
   "execution_count": 4,
   "metadata": {},
   "outputs": [
    {
     "name": "stdout",
     "output_type": "stream",
     "text": [
      "The Covariance Matrix:\n",
      "[[1.         0.41298117]\n",
      " [0.41298117 1.        ]]\n",
      "\n",
      "The Correlation Coefficient is:  0.412981167572698\n"
     ]
    }
   ],
   "source": [
    "#Loading sample-correlation.txt data_correlation\n",
    "data_correlation = np.loadtxt('sample-correlation.txt')\n",
    "\n",
    "#Getting the covariance matrix of the data_correlation\n",
    "corrcoef_array = np.corrcoef(np.transpose(data_correlation))\n",
    "\n",
    "#Printing the covariance matrix\n",
    "print('The Covariance Matrix:')\n",
    "print(corrcoef_array)\n",
    "print()\n",
    "\n",
    "#The covariance array has elements: [C_ii, C_ij\n",
    "#                                    C_ji, C_jj]\n",
    "#Note that also this is a symmetric matrix, meaning that C_ij = C_ji\n",
    "#We want to know the correlation between the two paramenter i and j, so we can print either C_ij or C_ji to get this coefficient\n",
    "\n",
    "#Printing the correlation coefficient between the two parameters\n",
    "print('The Correlation Coefficient is: ', corrcoef_array[0,1])"
   ]
  },
  {
   "cell_type": "markdown",
   "metadata": {},
   "source": [
    "## Exercise 5"
   ]
  },
  {
   "cell_type": "code",
   "execution_count": 5,
   "metadata": {},
   "outputs": [
    {
     "name": "stdout",
     "output_type": "stream",
     "text": [
      "-0.9956240366229848\n"
     ]
    }
   ],
   "source": [
    "#Incorrect given for assignment:\n",
    "#  import numpy as np\n",
    "#  a, b = 0, np.pi/2\n",
    "#  N = 50 # Number of intervals\n",
    "#  dx = (a-b)/49\n",
    "#  x = np.arange(a, b, N)\n",
    "#  f = np.cos(x)\n",
    "#  riemann_sum = np.sum(f * dx)\n",
    "#  print(riemann_sum)\n",
    "\n",
    "#Corrected script to get the reimann sum\n",
    "import numpy as np\n",
    "a, b = 0, np.pi/2\n",
    "N = 50                       #Number of intervals\n",
    "dx = (a-b)/50                #Changed denominator to 50 from 49\n",
    "x = np.linspace(a, b, N)     #Changed arange to linspace\n",
    "f = np.cos(x)\n",
    "riemann_sum = np.sum(f * dx)\n",
    "print(riemann_sum)"
   ]
  },
  {
   "cell_type": "markdown",
   "metadata": {},
   "source": [
    "## Exercise 6"
   ]
  },
  {
   "cell_type": "code",
   "execution_count": 6,
   "metadata": {},
   "outputs": [
    {
     "name": "stdout",
     "output_type": "stream",
     "text": [
      "The expected value is: -0.5\n",
      "The function returns:  -0.5\n"
     ]
    }
   ],
   "source": [
    "#Defining the average function\n",
    "def average(x):\n",
    "    return sum(x)/len(x)\n",
    "\n",
    "#Testing the function\n",
    "print('The expected value is: -0.5')\n",
    "print('The function returns: ', average(np.arange(-5,5)))"
   ]
  },
  {
   "cell_type": "markdown",
   "metadata": {},
   "source": [
    "## Exercise 7"
   ]
  },
  {
   "cell_type": "code",
   "execution_count": 7,
   "metadata": {},
   "outputs": [
    {
     "name": "stdout",
     "output_type": "stream",
     "text": [
      "The expected mean and standard deviation:  4.5   2.8722813232690143\n",
      "The function returns:  (4.5, 2.8722813232690143)\n"
     ]
    }
   ],
   "source": [
    "#Defining the stdev function\n",
    "def stdev(x):\n",
    "    n = len(x)\n",
    "    mu = (sum(x)/n)\n",
    "    numerator = []\n",
    "    for xi in x:\n",
    "        numerator.append((xi - mu)**2)\n",
    "    sigma = (sum(numerator)/n)**(1/2)\n",
    "    return mu, sigma\n",
    "\n",
    "#Testing the function\n",
    "print('The expected mean and standard deviation: ', np.mean(np.arange(10)), ' ', np.std(np.arange(10)))\n",
    "print('The function returns: ', stdev(np.arange(10)))"
   ]
  },
  {
   "cell_type": "markdown",
   "metadata": {},
   "source": [
    "## Exercise 8"
   ]
  },
  {
   "cell_type": "code",
   "execution_count": 8,
   "metadata": {},
   "outputs": [
    {
     "name": "stdout",
     "output_type": "stream",
     "text": [
      "The value for a_hat:  [10.2]\n",
      "The value for b_hat:  [6.11523444e-30]\n"
     ]
    }
   ],
   "source": [
    "#Had to remove the commas from the txt file and reorganize it into two columns to get it to work\n",
    "data_resistor = np.loadtxt('sample-resistor.txt')\n",
    "data_1, data_2 = np.hsplit(data_resistor, 2)\n",
    "\n",
    "#Getting b_hat using average function defined in an earlier problem\n",
    "x_mean = average(data_1)\n",
    "y_mean = average(data_2)\n",
    "num_x = [(x - x_mean) for x in data_1]\n",
    "num_y = [(y - y_mean) for y in data_2]\n",
    "num = sum(num_x)*sum(num_y)\n",
    "denom = sum([num_xi**2 for num_xi in num_x])\n",
    "b_hat = num/denom\n",
    "\n",
    "#Getting a_hat\n",
    "a_hat = y_mean - b_hat*x_mean\n",
    "\n",
    "#Printing outputs of a_hat and b_hat\n",
    "print('The value for a_hat: ', a_hat)\n",
    "print('The value for b_hat: ', b_hat)"
   ]
  },
  {
   "cell_type": "markdown",
   "metadata": {},
   "source": [
    "## Outputs\n",
    "In case the code does not run correctly for the grader, the following is the output as observed by the author."
   ]
  },
  {
   "cell_type": "markdown",
   "metadata": {},
   "source": [
    "### Exercise 1:\n",
    "\n",
    "`Rate of change of y at each step:\n",
    "[-0.0049958347219741794, -0.014937587436784194, -0.024730088715635645, -0.03427549512272088, -0.043478432112512344, -0.05224694698069454, -0.06049342762518983, -0.068135477937323, -0.075096741076501]`\n",
    "\n",
    "`Number of elements in y array:  10\n",
    "Number of elements in delta_y array:  9`\n",
    "\n",
    "\n",
    "### Exercise 2:\n",
    "\n",
    "`Rate of change of y at each step with array arithmetic:\n",
    "[-0.00499583 -0.01493759 -0.02473009 -0.0342755  -0.04347843 -0.05224695\n",
    " -0.06049343 -0.06813548 -0.07509674]`\n",
    " \n",
    "`Number of elements in y array:  10\n",
    "Number of elements in delta_y2 array:  9`\n",
    "\n",
    "\n",
    "### Exercise 3:\n",
    "\n",
    "`The tension in the string in Newtons is:  1449.6502649776662\n",
    "With uncertainity in Newtons:  102.08804953780205`\n",
    "\n",
    "\n",
    "### Exercise 4:\n",
    "\n",
    "`The Covariance Matrix:\n",
    "[[1.         0.41298117]\n",
    " [0.41298117 1.        ]]`\n",
    "\n",
    "`The Correlation Coefficient is:  0.412981167572698`\n",
    "\n",
    "\n",
    "### Exercise 5:\n",
    "\n",
    "`-0.9956240366229848`\n",
    "\n",
    "\n",
    "### Exercise 6:\n",
    "\n",
    "`The expected value is: -0.5\n",
    "The function returns:  -0.5`\n",
    "\n",
    "\n",
    "### Exercise 7:\n",
    "\n",
    "`The expected mean and standard deviation:  4.5   2.8722813232690143\n",
    "The function returns:  (4.5, 2.8722813232690143)`\n",
    "\n",
    "\n",
    "### Exercise 8:\n",
    "\n",
    "`The value for a_hat:  [10.2]\n",
    "The value for b_hat:  [6.11523444e-30]`"
   ]
  }
 ],
 "metadata": {
  "kernelspec": {
   "display_name": "Python 3",
   "language": "python",
   "name": "python3"
  },
  "language_info": {
   "codemirror_mode": {
    "name": "ipython",
    "version": 3
   },
   "file_extension": ".py",
   "mimetype": "text/x-python",
   "name": "python",
   "nbconvert_exporter": "python",
   "pygments_lexer": "ipython3",
   "version": "3.6.4"
  }
 },
 "nbformat": 4,
 "nbformat_minor": 2
}
