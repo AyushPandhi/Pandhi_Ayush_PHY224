{
 "cells": [
  {
   "cell_type": "markdown",
   "metadata": {},
   "source": [
    "# Electron Charge to Mass Ratio\n",
    "### Author: Ayush Pandhi (1003227457)\n",
    "### Date: December 02, 2018"
   ]
  },
  {
   "cell_type": "code",
   "execution_count": 170,
   "metadata": {},
   "outputs": [],
   "source": [
    "#Importing required modules\n",
    "import numpy as np\n",
    "import matplotlib.pyplot as plt\n",
    "from scipy.optimize import curve_fit"
   ]
  },
  {
   "cell_type": "code",
   "execution_count": 171,
   "metadata": {},
   "outputs": [],
   "source": [
    "#Defining the linear model function\n",
    "def f(x, a, b):\n",
    "    return a*x + b"
   ]
  },
  {
   "cell_type": "code",
   "execution_count": 172,
   "metadata": {},
   "outputs": [],
   "source": [
    "#Loading Current vs. Diameter data\n",
    "current = np.loadtxt('Current vs Diameter.txt', skiprows=2, usecols=(0,))\n",
    "radius = (0.01*(np.loadtxt('Current vs Diameter.txt', skiprows=2, usecols=(1,))))/2\n",
    "\n",
    "#Radius of coils and voltage in the system\n",
    "R = 0.150\n",
    "V = 181.0\n",
    "\n",
    "#Defining errors in current, voltage and R\n",
    "ierror = np.empty(len(current))\n",
    "for i in range(len(current)):\n",
    "    ierror[i] = max(current[i]*0.0075, 0.1/1000)\n",
    "verror = 0.1\n",
    "Rerror = 0.005"
   ]
  },
  {
   "cell_type": "code",
   "execution_count": 173,
   "metadata": {},
   "outputs": [],
   "source": [
    "#Computing Bc (magnetic field) from current\n",
    "Bc = []\n",
    "for i in current:\n",
    "    Bc.append(((4/5)**(3/2))*(4*(np.pi)*10**(-7))*(130)*(1/R)*(i))\n",
    "\n",
    "#Propagating error for Bc\n",
    "Bcerror = Bc*(((ierror/current)**2 + (Rerror/R)**2)**0.5)"
   ]
  },
  {
   "cell_type": "code",
   "execution_count": 174,
   "metadata": {},
   "outputs": [],
   "source": [
    "#Linear regression\n",
    "p_opt, p_cov = curve_fit(f, 1/radius, Bc, (0,0), Bcerror, True)\n",
    "output = f(1/radius, p_opt[0], p_opt[1])"
   ]
  },
  {
   "cell_type": "code",
   "execution_count": 175,
   "metadata": {},
   "outputs": [
    {
     "name": "stdout",
     "output_type": "stream",
     "text": [
      "Chi squared for linear regression:  2.053265161196029\n",
      "Estimated Be:  0.000540996453840319\n"
     ]
    },
    {
     "data": {
      "image/png": "[encoded data removed]",
      "text/plain": [
       "<matplotlib.figure.Figure at 0x2981810de80>"
      ]
     },
     "metadata": {},
     "output_type": "display_data"
    }
   ],
   "source": [
    "#Calculating chi squared\n",
    "chi_sq = (1/4)*(np.sum(((Bc - output)/Bcerror)**2))\n",
    "print('Chi squared for linear regression: ', chi_sq)\n",
    "\n",
    "#Outputting estimated Be (y-intercept)\n",
    "print('Estimated Be: ', -p_opt[1])\n",
    "\n",
    "#Plot of Bc vs. 1/r\n",
    "plt.figure(figsize=(10,8))\n",
    "plt.scatter(1/radius, Bc, label = 'raw data', marker = '.', color = 'k')\n",
    "plt.plot(1/radius, output, 'r-', label = 'linear fit')\n",
    "plt.title('Bc vs. 1/r with Linear Fit')\n",
    "plt.xlabel('1/r (m^-1)')\n",
    "plt.ylabel('Bc (T)')\n",
    "plt.errorbar(1/radius, Bc, xerr=0, yerr=Bcerror, linestyle='none', ecolor='g', label='Error', capsize=2)\n",
    "plt.ylim(-0.01, 0.01)\n",
    "plt.legend()\n",
    "plt.show()"
   ]
  },
  {
   "cell_type": "code",
   "execution_count": 176,
   "metadata": {},
   "outputs": [
    {
     "name": "stdout",
     "output_type": "stream",
     "text": [
      "Mean charge to mass ratio:  -9374200927793.904\n"
     ]
    }
   ],
   "source": [
    "#Defining k and I0\n",
    "k = (((4/5)**(3/2))*(4*(np.pi)*10**(-7))*(130)*(1/R))/(2**0.5)\n",
    "I0 = (-p_opt[1])/k\n",
    "\n",
    "#Propagating errors for k and I0\n",
    "kerror = (((4/5)**(3/2))*(4*(np.pi)*10**(-7))*(130)*(1/Rerror))/(2**0.5)\n",
    "I0error = I0*(((Bcerror/Bc)**2 + (kerror/k)**2)**0.5)\n",
    "\n",
    "#Computing the e/m ratio\n",
    "emratio = -(((V**0.5)/(radius*k))*(1/(current - I0)))**2\n",
    "print('Mean charge to mass ratio: ', np.mean(emratio))"
   ]
  }
 ],
 "metadata": {
  "kernelspec": {
   "display_name": "Python 3",
   "language": "python",
   "name": "python3"
  },
  "language_info": {
   "codemirror_mode": {
    "name": "ipython",
    "version": 3
   },
   "file_extension": ".py",
   "mimetype": "text/x-python",
   "name": "python",
   "nbconvert_exporter": "python",
   "pygments_lexer": "ipython3",
   "version": "3.6.4"
  }
 },
 "nbformat": 4,
 "nbformat_minor": 2
}
